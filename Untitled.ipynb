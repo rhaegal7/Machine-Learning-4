{
 "cells": [
  {
   "cell_type": "code",
   "execution_count": 61,
   "metadata": {},
   "outputs": [],
   "source": [
    "import numpy as np\n",
    "import matplotlib.pyplot as plt\n",
    "\n",
    "import cv2\n",
    "import skimage.io\n",
    "import skimage.transform\n",
    "import skimage.feature\n",
    "\n",
    "from sklearn.externals import joblib\n",
    "\n",
    "from sklearn.tree import DecisionTreeClassifier\n",
    "from sklearn.naive_bayes import GaussianNB\n",
    "from sklearn.svm import SVC\n",
    "from sklearn.linear_model import LogisticRegression\n",
    "from sklearn.ensemble import RandomForestClassifier\n",
    "from sklearn.neighbors import KNeighborsClassifier\n",
    "\n",
    "from sklearn.model_selection import train_test_split\n",
    "from sklearn.metrics import accuracy_score\n",
    "\n",
    "import os\n",
    "\n",
    "import pandas as pd"
   ]
  },
  {
   "cell_type": "markdown",
   "metadata": {},
   "source": [
    "### Hyper-Parameter\n"
   ]
  },
  {
   "cell_type": "code",
   "execution_count": 62,
   "metadata": {},
   "outputs": [],
   "source": [
    "IMG_SIZE = 64\n",
    "feature_type='raw_hog_colorhist_fft'"
   ]
  },
  {
   "cell_type": "markdown",
   "metadata": {},
   "source": [
    "## Training"
   ]
  },
  {
   "cell_type": "markdown",
   "metadata": {},
   "source": [
    "### Reading images and labels¶"
   ]
  },
  {
   "cell_type": "code",
   "execution_count": 63,
   "metadata": {},
   "outputs": [
    {
     "name": "stdout",
     "output_type": "stream",
     "text": [
      "reading images: 1 / 10222\n",
      "reading images: 1001 / 10222\n",
      "reading images: 2001 / 10222\n",
      "reading images: 3001 / 10222\n",
      "reading images: 4001 / 10222\n",
      "reading images: 5001 / 10222\n",
      "reading images: 6001 / 10222\n",
      "reading images: 7001 / 10222\n",
      "reading images: 8001 / 10222\n",
      "reading images: 9001 / 10222\n",
      "reading images: 10001 / 10222\n"
     ]
    }
   ],
   "source": [
    "training_data_path = 'train'\n",
    "m_tr_imgs = len(img_names)\n",
    "img_buff = np.zeros((m_tr_imgs, IMG_SIZE, IMG_SIZE, 3))\n",
    "target = []\n",
    "\n",
    "for i in range(m_tr_imgs):\n",
    "    img_file_path = os.path.join(training_data_path, img_names[i])\n",
    "    img = cv2.imread(img_file_path)\n",
    "    img = cv2.resize(img,(IMG_SIZE, IMG_SIZE))\n",
    "    img_buff[i, :, :, :] = img/255.\n",
    "    if np.mod(i, 1000) == 1:\n",
    "        print('reading images: ' + str(i) + ' / ' + str(m_tr_imgs))"
   ]
  },
  {
   "cell_type": "code",
   "execution_count": 64,
   "metadata": {},
   "outputs": [
    {
     "name": "stdout",
     "output_type": "stream",
     "text": [
      "['boston_bull', 'dingo', 'pekinese', 'bluetick', 'golden_retriever']\n"
     ]
    }
   ],
   "source": [
    "labels_csv = pd.read_csv('labels.csv',usecols=[1])\n",
    "target = np.array(labels_csv).reshape((10222,)).tolist()\n",
    "print(target[:5])"
   ]
  },
  {
   "cell_type": "markdown",
   "metadata": {},
   "source": [
    "### Feature extraction"
   ]
  },
  {
   "cell_type": "code",
   "execution_count": 65,
   "metadata": {},
   "outputs": [],
   "source": [
    "def cpt_features(img, feat_type):\n",
    "    \n",
    "    def _raw_feat(img):\n",
    "        feat = cv2.resize(img,(8,8))\n",
    "        return np.reshape(feat, (-1))\n",
    "    \n",
    "    def _hog_feat(img):\n",
    "        feat = skimage.feature.hog(\n",
    "            np.mean(img, axis=-1), orientations=9, pixels_per_cell=(8, 8), \n",
    "            cells_per_block=(1, 1))\n",
    "        return np.reshape(feat, (-1))\n",
    "    \n",
    "    def _colorhist_feat(img):\n",
    "        hist_r, _ = np.histogram(img[:,:,0], bins=20, range=(0.0, 1.0), density=True)\n",
    "        hist_g, _ = np.histogram(img[:,:,1], bins=20, range=(0.0, 1.0), density=True)\n",
    "        hist_b, _ = np.histogram(img[:,:,2], bins=20, range=(0.0, 1.0), density=True)\n",
    "        feat = np.concatenate((hist_r, hist_g, hist_b), axis=0)\n",
    "        return np.reshape(feat, (-1))\n",
    "        \n",
    "    def _fft_feat(img):\n",
    "        feat = np.abs(np.fft.fft2(np.mean(img, axis=-1)))\n",
    "        return np.reshape(feat[0:10, 0:10], (-1))\n",
    "\n",
    "    if feat_type is 'raw':\n",
    "        return _raw_feat(img)\n",
    "        \n",
    "    if feat_type is 'hog':\n",
    "        return _hog_feat(img)\n",
    "            \n",
    "    if feat_type is 'colorhist':\n",
    "        return _colorhist_feat(img)\n",
    "        \n",
    "    if feat_type is 'fft':\n",
    "        return _fft_feat(img)\n",
    "            \n",
    "    if feat_type is 'raw_hog_colorhist_fft':\n",
    "        \n",
    "        return np.concatenate(\n",
    "            (_raw_feat(img), _hog_feat(img), _colorhist_feat(img), _fft_feat(img)),\n",
    "            axis=0)"
   ]
  },
  {
   "cell_type": "code",
   "execution_count": 66,
   "metadata": {},
   "outputs": [
    {
     "name": "stderr",
     "output_type": "stream",
     "text": [
      "C:\\Rhaegal\\Anaconda3\\envs\\tf\\lib\\site-packages\\skimage\\feature\\_hog.py:119: skimage_deprecation: Default value of `block_norm`==`L1` is deprecated and will be changed to `L2-Hys` in v0.15\n",
      "  'be changed to `L2-Hys` in v0.15', skimage_deprecation)\n"
     ]
    },
    {
     "name": "stdout",
     "output_type": "stream",
     "text": [
      "extracting features: 1 / 10222\n",
      "extracting features: 1001 / 10222\n",
      "extracting features: 2001 / 10222\n",
      "extracting features: 3001 / 10222\n",
      "extracting features: 4001 / 10222\n",
      "extracting features: 5001 / 10222\n",
      "extracting features: 6001 / 10222\n",
      "extracting features: 7001 / 10222\n",
      "extracting features: 8001 / 10222\n",
      "extracting features: 9001 / 10222\n",
      "extracting features: 10001 / 10222\n"
     ]
    }
   ],
   "source": [
    "dims = cpt_features(img_buff[0, :, :, :], feature_type).size\n",
    "data = np.zeros((m_tr_imgs, dims))\n",
    "for i in range(m_tr_imgs):\n",
    "    img = img_buff[i, :, :, :]\n",
    "    feat = cpt_features(img, feature_type)\n",
    "    data[i, :] = feat\n",
    "    \n",
    "    if np.mod(i, 1000) == 1:\n",
    "        print('extracting features: ' + str(i) + ' / ' + str(m_tr_imgs))"
   ]
  },
  {
   "cell_type": "markdown",
   "metadata": {},
   "source": [
    "### Train a classifier"
   ]
  },
  {
   "cell_type": "code",
   "execution_count": 73,
   "metadata": {},
   "outputs": [
    {
     "data": {
      "text/plain": [
       "RandomForestClassifier(bootstrap=True, class_weight=None, criterion='entropy',\n",
       "            max_depth=10, max_features='auto', max_leaf_nodes=None,\n",
       "            min_impurity_decrease=0.0, min_impurity_split=None,\n",
       "            min_samples_leaf=1, min_samples_split=2,\n",
       "            min_weight_fraction_leaf=0.0, n_estimators=200, n_jobs=1,\n",
       "            oob_score=False, random_state=None, verbose=0,\n",
       "            warm_start=False)"
      ]
     },
     "execution_count": 73,
     "metadata": {},
     "output_type": "execute_result"
    }
   ],
   "source": [
    "data_tr, data_val, target_tr, target_val = train_test_split(data, target, test_size=0.2)\n",
    "\n",
    "\n",
    "clf = RandomForestClassifier(n_estimators=200, max_depth=10, criterion='entropy')\n",
    "\n",
    "clf.fit(data_tr, target_tr)\n"
   ]
  },
  {
   "cell_type": "code",
   "execution_count": 74,
   "metadata": {},
   "outputs": [
    {
     "name": "stdout",
     "output_type": "stream",
     "text": [
      "model: RF, training acc = 99.95108230402347 %\n",
      "model: RF, testing acc = 4.596577017114915 %\n"
     ]
    }
   ],
   "source": [
    "pred_cls = clf.predict(data_tr)\n",
    "acc = accuracy_score(target_tr, pred_cls)\n",
    "print('model: %s, training acc = %s %%' % (\"RF\", acc*100))\n",
    "pred_cls = clf.predict(data_val)\n",
    "acc = accuracy_score(target_val, pred_cls)\n",
    "print('model: %s, testing acc = %s %%' % (\"RF\", acc*100))"
   ]
  }
 ],
 "metadata": {
  "kernelspec": {
   "display_name": "Python 3",
   "language": "python",
   "name": "python3"
  },
  "language_info": {
   "codemirror_mode": {
    "name": "ipython",
    "version": 3
   },
   "file_extension": ".py",
   "mimetype": "text/x-python",
   "name": "python",
   "nbconvert_exporter": "python",
   "pygments_lexer": "ipython3",
   "version": "3.5.5"
  }
 },
 "nbformat": 4,
 "nbformat_minor": 2
}
